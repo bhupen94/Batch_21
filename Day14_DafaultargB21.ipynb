{
 "cells": [
  {
   "cell_type": "code",
   "execution_count": null,
   "metadata": {},
   "outputs": [],
   "source": [
    "# Default Arguments "
   ]
  },
  {
   "cell_type": "code",
   "execution_count": 1,
   "metadata": {},
   "outputs": [],
   "source": [
    "def describe_pet(animal_type,pet_name):\n",
    "    \"\"\"Display information about a pet\"\"\"\n",
    "    print(f\"\\n I have a {animal_type}\")\n",
    "    print(f\" my {animal_type}'s name is {pet_name.title()}\")"
   ]
  },
  {
   "cell_type": "code",
   "execution_count": 2,
   "metadata": {},
   "outputs": [
    {
     "name": "stdout",
     "output_type": "stream",
     "text": [
      "\n",
      " I have a dog\n",
      " my dog's name is Bruno\n"
     ]
    }
   ],
   "source": [
    "describe_pet('dog','bruno')"
   ]
  },
  {
   "cell_type": "code",
   "execution_count": null,
   "metadata": {},
   "outputs": [],
   "source": [
    "#Deafault argument"
   ]
  },
  {
   "cell_type": "code",
   "execution_count": 4,
   "metadata": {},
   "outputs": [
    {
     "ename": "SyntaxError",
     "evalue": "non-default argument follows default argument (<ipython-input-4-6360be3f4976>, line 1)",
     "output_type": "error",
     "traceback": [
      "\u001b[1;36m  File \u001b[1;32m\"<ipython-input-4-6360be3f4976>\"\u001b[1;36m, line \u001b[1;32m1\u001b[0m\n\u001b[1;33m    def describe_pet(animal_type = 'dog',pet_name):\u001b[0m\n\u001b[1;37m                    ^\u001b[0m\n\u001b[1;31mSyntaxError\u001b[0m\u001b[1;31m:\u001b[0m non-default argument follows default argument\n"
     ]
    }
   ],
   "source": [
    "def describe_pet(animal_type = 'dog',pet_name):\n",
    "    \"\"\"Display information about a pet\"\"\"\n",
    "    print(f\"\\n I have a {animal_type}\")\n",
    "    print(f\" my {animal_type}'s name is {pet_name.title()}\")"
   ]
  },
  {
   "cell_type": "code",
   "execution_count": null,
   "metadata": {},
   "outputs": [],
   "source": [
    "# Always keep the default parameter at last"
   ]
  },
  {
   "cell_type": "code",
   "execution_count": 5,
   "metadata": {},
   "outputs": [],
   "source": [
    "def describe_pet(pet_name,animal_type = 'dog'):\n",
    "    \"\"\"Display information about a pet\"\"\"\n",
    "    print(f\"\\n I have a {animal_type}\")\n",
    "    print(f\" my {animal_type}'s name is {pet_name.title()}\")"
   ]
  },
  {
   "cell_type": "code",
   "execution_count": 6,
   "metadata": {},
   "outputs": [
    {
     "name": "stdout",
     "output_type": "stream",
     "text": [
      "\n",
      " I have a dog\n",
      " my dog's name is Kitty\n"
     ]
    }
   ],
   "source": [
    "describe_pet('kitty') "
   ]
  },
  {
   "cell_type": "code",
   "execution_count": null,
   "metadata": {},
   "outputs": [],
   "source": [
    "# If there is any missing information then only defalutvarguments works."
   ]
  },
  {
   "cell_type": "code",
   "execution_count": 7,
   "metadata": {},
   "outputs": [
    {
     "name": "stdout",
     "output_type": "stream",
     "text": [
      "\n",
      " I have a cat\n",
      " my cat's name is Rex\n"
     ]
    }
   ],
   "source": [
    "describe_pet('rex','cat')"
   ]
  },
  {
   "cell_type": "code",
   "execution_count": null,
   "metadata": {},
   "outputs": [],
   "source": [
    "# Returning a simple value."
   ]
  },
  {
   "cell_type": "code",
   "execution_count": 9,
   "metadata": {},
   "outputs": [],
   "source": [
    "def get_formated_name(first_name,last_name):# Defining the function name and params\n",
    "    \"\"\"Return a full name,neatly formated\"\"\" # Doc string\n",
    "    full_name = f\"{first_name} {last_name}\" #Attribute\n",
    "    return full_name.title() #controlling the output of the function"
   ]
  },
  {
   "cell_type": "code",
   "execution_count": 10,
   "metadata": {},
   "outputs": [
    {
     "data": {
      "text/plain": [
       "'Bhupen Pashine'"
      ]
     },
     "execution_count": 10,
     "metadata": {},
     "output_type": "execute_result"
    }
   ],
   "source": [
    "get_formated_name('bhupen','pashine')"
   ]
  },
  {
   "cell_type": "code",
   "execution_count": null,
   "metadata": {},
   "outputs": [],
   "source": []
  },
  {
   "cell_type": "code",
   "execution_count": null,
   "metadata": {},
   "outputs": [],
   "source": [
    "#arbitary number of arguments ---# Speculative"
   ]
  },
  {
   "cell_type": "code",
   "execution_count": 23,
   "metadata": {},
   "outputs": [],
   "source": [
    "def make_pizza(topping):\n",
    "    \"\"\"Print the List of toppings that have been requested\"\"\"\n",
    "    print(topping)"
   ]
  },
  {
   "cell_type": "code",
   "execution_count": 24,
   "metadata": {},
   "outputs": [
    {
     "name": "stdout",
     "output_type": "stream",
     "text": [
      "corn\n"
     ]
    }
   ],
   "source": [
    "make_pizza('corn')"
   ]
  },
  {
   "cell_type": "code",
   "execution_count": 22,
   "metadata": {},
   "outputs": [
    {
     "ename": "TypeError",
     "evalue": "make_pizza() takes 1 positional argument but 3 were given",
     "output_type": "error",
     "traceback": [
      "\u001b[1;31m---------------------------------------------------------------------------\u001b[0m",
      "\u001b[1;31mTypeError\u001b[0m                                 Traceback (most recent call last)",
      "\u001b[1;32m<ipython-input-22-643799e2716c>\u001b[0m in \u001b[0;36m<module>\u001b[1;34m\u001b[0m\n\u001b[1;32m----> 1\u001b[1;33m \u001b[0mmake_pizza\u001b[0m\u001b[1;33m(\u001b[0m\u001b[1;34m'corn'\u001b[0m\u001b[1;33m,\u001b[0m\u001b[1;34m'olives'\u001b[0m\u001b[1;33m,\u001b[0m\u001b[1;34m'onion'\u001b[0m\u001b[1;33m)\u001b[0m\u001b[1;33m\u001b[0m\u001b[1;33m\u001b[0m\u001b[0m\n\u001b[0m",
      "\u001b[1;31mTypeError\u001b[0m: make_pizza() takes 1 positional argument but 3 were given"
     ]
    }
   ],
   "source": [
    "make_pizza('corn','olives','onion')"
   ]
  },
  {
   "cell_type": "code",
   "execution_count": 26,
   "metadata": {},
   "outputs": [],
   "source": [
    "def make_pizza(*topping): # *arbitary\n",
    "    \"\"\"Print the List of toppings that have been requested\"\"\"\n",
    "    print(topping)"
   ]
  },
  {
   "cell_type": "code",
   "execution_count": 27,
   "metadata": {},
   "outputs": [
    {
     "name": "stdout",
     "output_type": "stream",
     "text": [
      "('corn', 'olives', 'onion')\n"
     ]
    }
   ],
   "source": [
    "make_pizza('corn','olives','onion')"
   ]
  },
  {
   "cell_type": "code",
   "execution_count": 28,
   "metadata": {},
   "outputs": [
    {
     "name": "stdout",
     "output_type": "stream",
     "text": [
      "('corn', 'olives', 'onion', 'chicken', 'origano')\n"
     ]
    }
   ],
   "source": [
    "make_pizza('corn','olives','onion','chicken','origano')"
   ]
  },
  {
   "cell_type": "code",
   "execution_count": null,
   "metadata": {},
   "outputs": [],
   "source": []
  },
  {
   "cell_type": "code",
   "execution_count": null,
   "metadata": {},
   "outputs": [],
   "source": [
    "# Enhancement of the code"
   ]
  },
  {
   "cell_type": "code",
   "execution_count": 35,
   "metadata": {},
   "outputs": [],
   "source": [
    "def make_pizza(*topping): # *arbitary\n",
    "    \"\"\"Print the List of toppings that have been requested\"\"\"\n",
    "    print(\"\\n making a pizza with the following toppings\")\n",
    "    for x in topping:\n",
    "        print(f\" -{x}\")"
   ]
  },
  {
   "cell_type": "code",
   "execution_count": 36,
   "metadata": {},
   "outputs": [
    {
     "name": "stdout",
     "output_type": "stream",
     "text": [
      "\n",
      " making a pizza with the following toppings\n",
      " -corn\n",
      " -oilives\n",
      " -onion\n",
      " -extracheese\n",
      " -chicken\n",
      " -origano\n",
      "\n",
      " making a pizza with the following toppings\n",
      " -corn\n",
      " -oilives\n",
      " -onion\n",
      "\n",
      " making a pizza with the following toppings\n",
      " -corn\n"
     ]
    }
   ],
   "source": [
    "make_pizza('corn','oilives','onion','extracheese','chicken','origano')\n",
    "make_pizza('corn','oilives','onion')\n",
    "make_pizza('corn')"
   ]
  },
  {
   "cell_type": "code",
   "execution_count": null,
   "metadata": {},
   "outputs": [],
   "source": []
  },
  {
   "cell_type": "code",
   "execution_count": null,
   "metadata": {},
   "outputs": [],
   "source": []
  },
  {
   "cell_type": "code",
   "execution_count": null,
   "metadata": {},
   "outputs": [],
   "source": []
  },
  {
   "cell_type": "code",
   "execution_count": null,
   "metadata": {},
   "outputs": [],
   "source": []
  }
 ],
 "metadata": {
  "kernelspec": {
   "display_name": "Python 3",
   "language": "python",
   "name": "python3"
  },
  "language_info": {
   "codemirror_mode": {
    "name": "ipython",
    "version": 3
   },
   "file_extension": ".py",
   "mimetype": "text/x-python",
   "name": "python",
   "nbconvert_exporter": "python",
   "pygments_lexer": "ipython3",
   "version": "3.7.4"
  }
 },
 "nbformat": 4,
 "nbformat_minor": 2
}
