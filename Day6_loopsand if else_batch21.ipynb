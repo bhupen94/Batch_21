{
 "cells": [
  {
   "cell_type": "code",
   "execution_count": null,
   "metadata": {},
   "outputs": [],
   "source": [
    "# continuation on FOR Lopps:"
   ]
  },
  {
   "cell_type": "code",
   "execution_count": null,
   "metadata": {},
   "outputs": [],
   "source": [
    "#General Syntax of for loop :-"
   ]
  },
  {
   "cell_type": "code",
   "execution_count": null,
   "metadata": {},
   "outputs": [],
   "source": [
    "for tempvar in mainvar:\n",
    "    print(tempvar)"
   ]
  },
  {
   "cell_type": "code",
   "execution_count": null,
   "metadata": {},
   "outputs": [],
   "source": []
  },
  {
   "cell_type": "code",
   "execution_count": 2,
   "metadata": {},
   "outputs": [],
   "source": [
    "students = ['suresh','ramya','yasmeen','nihar','tarun','syeda','neha']"
   ]
  },
  {
   "cell_type": "code",
   "execution_count": 3,
   "metadata": {},
   "outputs": [
    {
     "name": "stdout",
     "output_type": "stream",
     "text": [
      "['suresh', 'ramya', 'yasmeen', 'nihar', 'tarun', 'syeda', 'neha']\n"
     ]
    }
   ],
   "source": [
    "print(students)"
   ]
  },
  {
   "cell_type": "code",
   "execution_count": null,
   "metadata": {},
   "outputs": [],
   "source": []
  },
  {
   "cell_type": "code",
   "execution_count": null,
   "metadata": {},
   "outputs": [],
   "source": [
    "# Requirements:-"
   ]
  },
  {
   "cell_type": "code",
   "execution_count": null,
   "metadata": {},
   "outputs": [],
   "source": [
    "#1. Appreciating all of the above for sending the files."
   ]
  },
  {
   "cell_type": "code",
   "execution_count": null,
   "metadata": {},
   "outputs": [],
   "source": [
    "#2. I also want to tell them i would be looking forward to recieve their files today."
   ]
  },
  {
   "cell_type": "code",
   "execution_count": null,
   "metadata": {},
   "outputs": [],
   "source": []
  },
  {
   "cell_type": "code",
   "execution_count": null,
   "metadata": {},
   "outputs": [],
   "source": [
    "# It will be iterating through the list and it will split them out of the list"
   ]
  },
  {
   "cell_type": "code",
   "execution_count": 5,
   "metadata": {},
   "outputs": [
    {
     "name": "stdout",
     "output_type": "stream",
     "text": [
      "suresh\n",
      "ramya\n",
      "yasmeen\n",
      "nihar\n",
      "tarun\n",
      "syeda\n",
      "neha\n"
     ]
    }
   ],
   "source": [
    "for random in students:\n",
    "    print(random)"
   ]
  },
  {
   "cell_type": "raw",
   "metadata": {},
   "source": [
    "for random in students:\n",
    "    print(random)"
   ]
  },
  {
   "cell_type": "code",
   "execution_count": null,
   "metadata": {},
   "outputs": [],
   "source": [
    "# Enhancement of code:"
   ]
  },
  {
   "cell_type": "code",
   "execution_count": null,
   "metadata": {},
   "outputs": [],
   "source": [
    "#Req1:"
   ]
  },
  {
   "cell_type": "code",
   "execution_count": 6,
   "metadata": {},
   "outputs": [
    {
     "name": "stdout",
     "output_type": "stream",
     "text": [
      " keep up the good work,Suresh\n",
      " I am looking forward to recieve your files for today,Suresh\n",
      " keep up the good work,Ramya\n",
      " I am looking forward to recieve your files for today,Ramya\n",
      " keep up the good work,Yasmeen\n",
      " I am looking forward to recieve your files for today,Yasmeen\n",
      " keep up the good work,Nihar\n",
      " I am looking forward to recieve your files for today,Nihar\n",
      " keep up the good work,Tarun\n",
      " I am looking forward to recieve your files for today,Tarun\n",
      " keep up the good work,Syeda\n",
      " I am looking forward to recieve your files for today,Syeda\n",
      " keep up the good work,Neha\n",
      " I am looking forward to recieve your files for today,Neha\n"
     ]
    }
   ],
   "source": [
    "for random in students:\n",
    "    print(f\" keep up the good work,{random.title()}\")\n",
    "    print(f\" I am looking forward to recieve your files for today,{random.title()}\")"
   ]
  },
  {
   "cell_type": "code",
   "execution_count": null,
   "metadata": {},
   "outputs": [],
   "source": [
    "#Req2:"
   ]
  },
  {
   "cell_type": "code",
   "execution_count": 7,
   "metadata": {},
   "outputs": [
    {
     "name": "stdout",
     "output_type": "stream",
     "text": [
      " keep up the good work,Suresh\n",
      " I am looking forward to recieve your files for today,Suresh\n",
      "\n",
      " keep up the good work,Ramya\n",
      " I am looking forward to recieve your files for today,Ramya\n",
      "\n",
      " keep up the good work,Yasmeen\n",
      " I am looking forward to recieve your files for today,Yasmeen\n",
      "\n",
      " keep up the good work,Nihar\n",
      " I am looking forward to recieve your files for today,Nihar\n",
      "\n",
      " keep up the good work,Tarun\n",
      " I am looking forward to recieve your files for today,Tarun\n",
      "\n",
      " keep up the good work,Syeda\n",
      " I am looking forward to recieve your files for today,Syeda\n",
      "\n",
      " keep up the good work,Neha\n",
      " I am looking forward to recieve your files for today,Neha\n",
      "\n"
     ]
    }
   ],
   "source": [
    "for random in students:\n",
    "    print(f\" keep up the good work,{random.title()}\")\n",
    "    print(f\" I am looking forward to recieve your files for today,{random.title()}\\n\")"
   ]
  },
  {
   "cell_type": "code",
   "execution_count": null,
   "metadata": {},
   "outputs": [],
   "source": [
    "#Req3:"
   ]
  },
  {
   "cell_type": "code",
   "execution_count": null,
   "metadata": {},
   "outputs": [],
   "source": [
    "# Generic message to all the participants:"
   ]
  },
  {
   "cell_type": "code",
   "execution_count": null,
   "metadata": {},
   "outputs": [],
   "source": [
    "# Thank you all fro joining in the python sessions.  # Out of for loop"
   ]
  },
  {
   "cell_type": "code",
   "execution_count": 8,
   "metadata": {},
   "outputs": [
    {
     "name": "stdout",
     "output_type": "stream",
     "text": [
      " keep up the good work,Suresh\n",
      " I am looking forward to recieve your files for today,Suresh\n",
      "\n",
      "Thank you all fro joining in the python sessions\n",
      " keep up the good work,Ramya\n",
      " I am looking forward to recieve your files for today,Ramya\n",
      "\n",
      "Thank you all fro joining in the python sessions\n",
      " keep up the good work,Yasmeen\n",
      " I am looking forward to recieve your files for today,Yasmeen\n",
      "\n",
      "Thank you all fro joining in the python sessions\n",
      " keep up the good work,Nihar\n",
      " I am looking forward to recieve your files for today,Nihar\n",
      "\n",
      "Thank you all fro joining in the python sessions\n",
      " keep up the good work,Tarun\n",
      " I am looking forward to recieve your files for today,Tarun\n",
      "\n",
      "Thank you all fro joining in the python sessions\n",
      " keep up the good work,Syeda\n",
      " I am looking forward to recieve your files for today,Syeda\n",
      "\n",
      "Thank you all fro joining in the python sessions\n",
      " keep up the good work,Neha\n",
      " I am looking forward to recieve your files for today,Neha\n",
      "\n",
      "Thank you all fro joining in the python sessions\n"
     ]
    }
   ],
   "source": [
    "for random in students:\n",
    "    print(f\" keep up the good work,{random.title()}\")\n",
    "    print(f\" I am looking forward to recieve your files for today,{random.title()}\\n\")\n",
    "    print('Thank you all fro joining in the python sessions')"
   ]
  },
  {
   "cell_type": "code",
   "execution_count": null,
   "metadata": {},
   "outputs": [],
   "source": []
  },
  {
   "cell_type": "code",
   "execution_count": null,
   "metadata": {},
   "outputs": [],
   "source": [
    "#Introduction to If else conditions:"
   ]
  },
  {
   "cell_type": "code",
   "execution_count": null,
   "metadata": {},
   "outputs": [],
   "source": [
    "# IF -Else Block:-"
   ]
  },
  {
   "cell_type": "code",
   "execution_count": null,
   "metadata": {},
   "outputs": [],
   "source": [
    "# General syntax of if else conditions:"
   ]
  },
  {
   "cell_type": "code",
   "execution_count": null,
   "metadata": {},
   "outputs": [],
   "source": [
    " if x(conditionsl block):\n",
    "        print\n",
    " else:\n",
    "    print"
   ]
  },
  {
   "cell_type": "code",
   "execution_count": 9,
   "metadata": {},
   "outputs": [],
   "source": [
    "my_students = ['rahul','nilesh','sahana','rohoni','manish','dinesh']"
   ]
  },
  {
   "cell_type": "code",
   "execution_count": null,
   "metadata": {},
   "outputs": [],
   "source": [
    "# Req: Nilesh is coming in list ---> I want to print his name in all capital letters."
   ]
  },
  {
   "cell_type": "code",
   "execution_count": null,
   "metadata": {},
   "outputs": [],
   "source": [
    "# Req:  for all others except Nilesh ---> i want in title case"
   ]
  },
  {
   "cell_type": "code",
   "execution_count": null,
   "metadata": {},
   "outputs": [],
   "source": []
  },
  {
   "cell_type": "code",
   "execution_count": 11,
   "metadata": {},
   "outputs": [
    {
     "name": "stdout",
     "output_type": "stream",
     "text": [
      "Rahul\n",
      "NILESH\n",
      "Sahana\n",
      "Rohoni\n",
      "Manish\n",
      "Dinesh\n"
     ]
    }
   ],
   "source": [
    "for x in my_students:\n",
    "    if x == 'nilesh':\n",
    "        print (x.upper())\n",
    "    else:\n",
    "        print(x.title())"
   ]
  },
  {
   "cell_type": "code",
   "execution_count": null,
   "metadata": {},
   "outputs": [],
   "source": []
  },
  {
   "cell_type": "code",
   "execution_count": null,
   "metadata": {},
   "outputs": [],
   "source": [
    "# Introduction to Slicing of Lists: "
   ]
  },
  {
   "cell_type": "code",
   "execution_count": 12,
   "metadata": {},
   "outputs": [],
   "source": [
    "my_students = ['rahul','nilesh','sahana','rohoni','manish','dinesh']"
   ]
  },
  {
   "cell_type": "code",
   "execution_count": 13,
   "metadata": {},
   "outputs": [
    {
     "name": "stdout",
     "output_type": "stream",
     "text": [
      "['rahul', 'nilesh', 'sahana', 'rohoni', 'manish', 'dinesh']\n"
     ]
    }
   ],
   "source": [
    "print(my_students)"
   ]
  },
  {
   "cell_type": "code",
   "execution_count": null,
   "metadata": {},
   "outputs": [],
   "source": [
    "# General syntax of slicing --->"
   ]
  },
  {
   "cell_type": "code",
   "execution_count": null,
   "metadata": {},
   "outputs": [],
   "source": [
    "# mainvar[startvalue:stopvalue:stepcount] (totally based up on the Indexing)"
   ]
  },
  {
   "cell_type": "code",
   "execution_count": null,
   "metadata": {},
   "outputs": [],
   "source": []
  },
  {
   "cell_type": "code",
   "execution_count": null,
   "metadata": {},
   "outputs": [],
   "source": [
    "#Req1: Rahul and Nilesh in single group"
   ]
  },
  {
   "cell_type": "code",
   "execution_count": null,
   "metadata": {},
   "outputs": [],
   "source": [
    "# Last value is always exclusive"
   ]
  },
  {
   "cell_type": "code",
   "execution_count": null,
   "metadata": {},
   "outputs": [],
   "source": []
  },
  {
   "cell_type": "code",
   "execution_count": 15,
   "metadata": {},
   "outputs": [
    {
     "name": "stdout",
     "output_type": "stream",
     "text": [
      "['rahul']\n"
     ]
    }
   ],
   "source": [
    "print(my_students[0:1])"
   ]
  },
  {
   "cell_type": "code",
   "execution_count": 16,
   "metadata": {},
   "outputs": [
    {
     "name": "stdout",
     "output_type": "stream",
     "text": [
      "['rahul', 'nilesh']\n"
     ]
    }
   ],
   "source": [
    "print(my_students[0:2])\n"
   ]
  },
  {
   "cell_type": "code",
   "execution_count": 17,
   "metadata": {},
   "outputs": [
    {
     "name": "stdout",
     "output_type": "stream",
     "text": [
      "['rahul', 'nilesh', 'sahana', 'rohoni']\n"
     ]
    }
   ],
   "source": [
    "print(my_students[0:4])"
   ]
  },
  {
   "cell_type": "code",
   "execution_count": null,
   "metadata": {},
   "outputs": [],
   "source": []
  }
 ],
 "metadata": {
  "kernelspec": {
   "display_name": "Python 3",
   "language": "python",
   "name": "python3"
  },
  "language_info": {
   "codemirror_mode": {
    "name": "ipython",
    "version": 3
   },
   "file_extension": ".py",
   "mimetype": "text/x-python",
   "name": "python",
   "nbconvert_exporter": "python",
   "pygments_lexer": "ipython3",
   "version": "3.7.4"
  }
 },
 "nbformat": 4,
 "nbformat_minor": 2
}
