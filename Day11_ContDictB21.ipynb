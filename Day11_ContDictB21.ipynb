{
 "cells": [
  {
   "cell_type": "code",
   "execution_count": null,
   "metadata": {},
   "outputs": [],
   "source": [
    "#Continuation with Dictionaries :"
   ]
  },
  {
   "cell_type": "code",
   "execution_count": null,
   "metadata": {},
   "outputs": [],
   "source": [
    "#Looping with Dictionaries :"
   ]
  },
  {
   "cell_type": "code",
   "execution_count": null,
   "metadata": {},
   "outputs": [],
   "source": [
    "# General Syntax of a for loop with The Dictionaries:"
   ]
  },
  {
   "cell_type": "code",
   "execution_count": null,
   "metadata": {},
   "outputs": [],
   "source": [
    "for k,v in mainvar.item():  # 2 temp var we can define by using the dictionaries\n",
    "    print(k)\n",
    "    print(v)\n",
    "    "
   ]
  },
  {
   "cell_type": "code",
   "execution_count": 9,
   "metadata": {},
   "outputs": [],
   "source": [
    "user_acount = {'username' : 'codetraining','fname' : 'code','lname' : 'trainig','pwd' : 12345 }"
   ]
  },
  {
   "cell_type": "code",
   "execution_count": 12,
   "metadata": {},
   "outputs": [
    {
     "name": "stdout",
     "output_type": "stream",
     "text": [
      "{'username': 'codetraining', 'fname': 'code', 'lname': 'trainig', 'pwd': 12345}\n"
     ]
    }
   ],
   "source": [
    "print(user_acount)"
   ]
  },
  {
   "cell_type": "code",
   "execution_count": 11,
   "metadata": {},
   "outputs": [
    {
     "name": "stdout",
     "output_type": "stream",
     "text": [
      "username\n",
      "codetraining\n",
      "fname\n",
      "code\n",
      "lname\n",
      "trainig\n",
      "pwd\n",
      "12345\n"
     ]
    }
   ],
   "source": [
    "for x,y in user_acount.items():\n",
    "    print(x)\n",
    "    print(y)"
   ]
  },
  {
   "cell_type": "code",
   "execution_count": 17,
   "metadata": {},
   "outputs": [
    {
     "name": "stdout",
     "output_type": "stream",
     "text": [
      "key :username\n",
      "value:codetraining\n",
      "\n",
      "key :fname\n",
      "value:code\n",
      "\n",
      "key :lname\n",
      "value:trainig\n",
      "\n",
      "key :pwd\n",
      "value:12345\n",
      "\n"
     ]
    }
   ],
   "source": [
    "for x,y in user_acount.items():\n",
    "    print(f\"key :{x}\")\n",
    "    print(f\"value:{y}\\n\")"
   ]
  },
  {
   "cell_type": "code",
   "execution_count": 20,
   "metadata": {},
   "outputs": [
    {
     "name": "stdout",
     "output_type": "stream",
     "text": [
      "{'username': 'codetraining', 'fname': 'code', 'lname': 'trainig', 'pwd': 12345}\n"
     ]
    }
   ],
   "source": [
    "print(user_acount)"
   ]
  },
  {
   "cell_type": "code",
   "execution_count": null,
   "metadata": {},
   "outputs": [],
   "source": [
    "# Req: To see only the keys in the output."
   ]
  },
  {
   "cell_type": "code",
   "execution_count": 23,
   "metadata": {},
   "outputs": [
    {
     "name": "stdout",
     "output_type": "stream",
     "text": [
      "username\n",
      "fname\n",
      "lname\n",
      "pwd\n"
     ]
    }
   ],
   "source": [
    "for x in user_acount.keys():\n",
    "    print(x)\n"
   ]
  },
  {
   "cell_type": "code",
   "execution_count": null,
   "metadata": {},
   "outputs": [],
   "source": [
    "# Req: To see only the values in the output."
   ]
  },
  {
   "cell_type": "code",
   "execution_count": 24,
   "metadata": {},
   "outputs": [
    {
     "name": "stdout",
     "output_type": "stream",
     "text": [
      "codetraining\n",
      "code\n",
      "trainig\n",
      "12345\n"
     ]
    }
   ],
   "source": [
    "for y in user_acount.values():\n",
    "    print(y)"
   ]
  },
  {
   "cell_type": "code",
   "execution_count": null,
   "metadata": {},
   "outputs": [],
   "source": []
  },
  {
   "cell_type": "code",
   "execution_count": null,
   "metadata": {},
   "outputs": [],
   "source": [
    "# INtroduction to Conditional Statements:"
   ]
  },
  {
   "cell_type": "code",
   "execution_count": null,
   "metadata": {},
   "outputs": [],
   "source": [
    "# If else"
   ]
  },
  {
   "cell_type": "code",
   "execution_count": 25,
   "metadata": {},
   "outputs": [],
   "source": [
    "students = ['yasmeen','atharva','milind','nilesh','ramya','sushmitha']"
   ]
  },
  {
   "cell_type": "code",
   "execution_count": null,
   "metadata": {},
   "outputs": [],
   "source": [
    "# Req : If sushmitha name comes i have to print in upper case for all other i have to print in title case"
   ]
  },
  {
   "cell_type": "code",
   "execution_count": 26,
   "metadata": {},
   "outputs": [
    {
     "name": "stdout",
     "output_type": "stream",
     "text": [
      "['yasmeen', 'atharva', 'milind', 'nilesh', 'ramya', 'sushmitha']\n"
     ]
    }
   ],
   "source": [
    "print(students)"
   ]
  },
  {
   "cell_type": "code",
   "execution_count": 29,
   "metadata": {},
   "outputs": [
    {
     "name": "stdout",
     "output_type": "stream",
     "text": [
      "Yasmeen\n",
      "Atharva\n",
      "Milind\n",
      "Nilesh\n",
      "Ramya\n",
      "SUSHMITHA\n"
     ]
    }
   ],
   "source": [
    "for x in students:\n",
    "    if x == 'sushmitha':\n",
    "        print(x.upper())\n",
    "    else:\n",
    "        print(x.title())"
   ]
  },
  {
   "cell_type": "code",
   "execution_count": null,
   "metadata": {},
   "outputs": [],
   "source": []
  },
  {
   "cell_type": "code",
   "execution_count": null,
   "metadata": {},
   "outputs": [],
   "source": []
  }
 ],
 "metadata": {
  "kernelspec": {
   "display_name": "Python 3",
   "language": "python",
   "name": "python3"
  },
  "language_info": {
   "codemirror_mode": {
    "name": "ipython",
    "version": 3
   },
   "file_extension": ".py",
   "mimetype": "text/x-python",
   "name": "python",
   "nbconvert_exporter": "python",
   "pygments_lexer": "ipython3",
   "version": "3.7.4"
  }
 },
 "nbformat": 4,
 "nbformat_minor": 2
}
